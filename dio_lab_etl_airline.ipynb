import pandas as pd

#Lê o arquivo e cria o dataset pandas
df = pd.read_csv('customers.csv')
print(df)

#Verifica o total de clientes por profissão:
profession_customer = df.groupby('job_id')['job_id'].count()


#Print do total de clientes por profissão: 
print("Total de clientes por profissão:")
print(profession_customer)


import matplotlib.pyplot as plt

#Cria um gráfico de barras para total de clientes por profissão
profession_customer.plot(kind='bar')
plt.xlabel('Profissão')
plt.ylabel('Total de clientes')
plt.title('Total de clientes por profissão')
plt.show()

#Cria novo arquivo csv com dados atualizados
profession_customer.to_csv("profession_customer.csv")